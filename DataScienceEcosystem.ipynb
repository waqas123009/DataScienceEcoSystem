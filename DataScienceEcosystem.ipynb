{
 "cells": [
  {
   "cell_type": "markdown",
   "id": "6100704b-258d-4491-af38-ad9a19a46b1d",
   "metadata": {},
   "source": [
    "# Data Science Tools and Ecosystem"
   ]
  },
  {
   "cell_type": "markdown",
   "id": "3579c289-087d-424e-a73a-45b29e2a3526",
   "metadata": {},
   "source": [
    "In this notebook, Data Science Tools and Ecosystem are summarized."
   ]
  },
  {
   "cell_type": "markdown",
   "id": "eb0941e9-c7c5-440a-9ce6-5b62d6744d41",
   "metadata": {},
   "source": [
    "**Objectives:**\n",
    "- List popular languages for Data Science.\n",
    "- List of popular libararies used for Data Science.\n",
    "- List of popular tools used for Data Science."
   ]
  },
  {
   "cell_type": "markdown",
   "id": "d9bceb6f-a963-4a95-a7a5-e6df559d25b4",
   "metadata": {},
   "source": [
    "Some of the popular languages that Data Scientists use are:\n",
    "1. Python\n",
    "2. SQL\n",
    "3. R\n",
    "4. Julia\n",
    "5. Javascript\n",
    "6. Scala\n",
    "7. Java"
   ]
  },
  {
   "cell_type": "markdown",
   "id": "2823722f-8582-43b5-8011-cac33ccdaf20",
   "metadata": {},
   "source": [
    "Some of the commonly used libraries used by Data Scientists include:\n",
    "1. Pandas\n",
    "2. NumPy\n",
    "3. Matplotlib\n",
    "4. Seaborn\n",
    "5. PyTorch\n",
    "6. Scikit-learn\n",
    "7. Tensorflow\n",
    "8. Plotly"
   ]
  },
  {
   "cell_type": "markdown",
   "id": "40996731-7d22-499d-ab90-b07d00127a44",
   "metadata": {},
   "source": [
    "| Data Science Tools |\n",
    "| ---- |\n",
    "| Jupyter Notebook |\n",
    "| TensorFlow |\n",
    "| Scikit-learn |\n",
    "| RapidMinder |\n",
    "| KNIME |"
   ]
  },
  {
   "cell_type": "markdown",
   "id": "52ca9e60-5793-4ace-9e93-a6b52165caf9",
   "metadata": {},
   "source": [
    "### Below are a few examples of evaluating arithmetic expressions in Python."
   ]
  },
  {
   "cell_type": "code",
   "execution_count": 2,
   "id": "fa3a8396-05ed-4146-bf15-7add289c5d5d",
   "metadata": {
    "tags": []
   },
   "outputs": [
    {
     "data": {
      "text/plain": [
       "17"
      ]
     },
     "execution_count": 2,
     "metadata": {},
     "output_type": "execute_result"
    }
   ],
   "source": [
    "#This a simple arithmetic expression to mutiply then add integers\n",
    "(3*4)+5"
   ]
  },
  {
   "cell_type": "code",
   "execution_count": 3,
   "id": "1fd689f2-73fa-4986-8552-9692d080ce30",
   "metadata": {
    "tags": []
   },
   "outputs": [
    {
     "data": {
      "text/plain": [
       "3.3333333333333335"
      ]
     },
     "execution_count": 3,
     "metadata": {},
     "output_type": "execute_result"
    }
   ],
   "source": [
    "#This will convert 200 minutes to hours by diving by 60\n",
    "200/60"
   ]
  },
  {
   "cell_type": "markdown",
   "id": "52b3e926-8a22-49b1-b6a1-7ad6d0c0f84d",
   "metadata": {},
   "source": [
    "## Author \n",
    "Muhammad Waqas"
   ]
  },
  {
   "cell_type": "code",
   "execution_count": null,
   "id": "132efd3b-22e4-4aea-9ace-8da444d013c9",
   "metadata": {},
   "outputs": [],
   "source": []
  }
 ],
 "metadata": {
  "kernelspec": {
   "display_name": "Python",
   "language": "python",
   "name": "conda-env-python-py"
  },
  "language_info": {
   "codemirror_mode": {
    "name": "ipython",
    "version": 3
   },
   "file_extension": ".py",
   "mimetype": "text/x-python",
   "name": "python",
   "nbconvert_exporter": "python",
   "pygments_lexer": "ipython3",
   "version": "3.7.12"
  }
 },
 "nbformat": 4,
 "nbformat_minor": 5
}
